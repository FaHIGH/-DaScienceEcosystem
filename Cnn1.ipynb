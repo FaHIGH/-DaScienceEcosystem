{
  "nbformat": 4,
  "nbformat_minor": 0,
  "metadata": {
    "colab": {
      "provenance": [],
      "authorship_tag": "ABX9TyPTQYiLSVkkbry6Rhchkirm",
      "include_colab_link": true
    },
    "kernelspec": {
      "name": "python3",
      "display_name": "Python 3"
    },
    "language_info": {
      "name": "python"
    }
  },
  "cells": [
    {
      "cell_type": "markdown",
      "metadata": {
        "id": "view-in-github",
        "colab_type": "text"
      },
      "source": [
        "<a href=\"https://colab.research.google.com/github/FaHIGH/-DaScienceEcosystem/blob/main/Cnn1.ipynb\" target=\"_parent\"><img src=\"https://colab.research.google.com/assets/colab-badge.svg\" alt=\"Open In Colab\"/></a>"
      ]
    },
    {
      "cell_type": "code",
      "source": [
        "import tensorflow as tf\n",
        "print(tf.__version__)"
      ],
      "metadata": {
        "colab": {
          "base_uri": "https://localhost:8080/"
        },
        "id": "w-O5WC5HrgHg",
        "outputId": "892f36d3-6d52-491a-d138-f0f66e8ba808"
      },
      "execution_count": 1,
      "outputs": [
        {
          "output_type": "stream",
          "name": "stdout",
          "text": [
            "2.15.0\n"
          ]
        }
      ]
    },
    {
      "cell_type": "code",
      "source": [
        "import tensorflow as tf\n",
        "data = tf.keras.datasets.fashion_mnist\n",
        "\n",
        "(training_images, training_labels), (test_images, test_labels) = data.load_data()\n",
        "\n",
        "training_images = training_images.reshape(60000, 28, 28, 1)\n",
        "training_images = training_images / 255.0\n",
        "test_images = test_images.reshape(10000, 28, 28, 1)\n",
        "test_images = test_images / 255.0\n",
        "\n",
        "model = tf.keras.models.Sequential([\n",
        "    tf.keras.layers.Conv2D(64, (3,3), activation='relu',\n",
        "                           input_shape=(28, 28, 1)),\n",
        "    tf.keras.layers.MaxPooling2D(2,2),\n",
        "    tf.keras.layers.Conv2D(64, (3,3), activation='relu'),\n",
        "    tf.keras.layers.MaxPooling2D(2,2),\n",
        "    tf.keras.layers.Flatten(),\n",
        "    tf.keras.layers.Dense(128, activation=tf.nn.relu),\n",
        "    tf.keras.layers.Dense(10, activation=tf.nn.softmax)\n",
        "])\n",
        "\n",
        "model.compile(optimizer = 'adam',\n",
        "              loss = 'sparse_categorical_crossentropy',\n",
        "              metrics=['accuracy'])\n",
        "\n",
        "model.fit(training_images, training_labels, epochs=50)\n",
        "model.evaluate(test_images, test_labels)"
      ],
      "metadata": {
        "colab": {
          "base_uri": "https://localhost:8080/"
        },
        "id": "c2xC-JsG4BS-",
        "outputId": "dfc7ab90-a469-4ce4-8329-efb18ba9e438"
      },
      "execution_count": 5,
      "outputs": [
        {
          "output_type": "stream",
          "name": "stdout",
          "text": [
            "Epoch 1/50\n",
            "1875/1875 [==============================] - 76s 40ms/step - loss: 0.4418 - accuracy: 0.8381\n",
            "Epoch 2/50\n",
            "1875/1875 [==============================] - 75s 40ms/step - loss: 0.2989 - accuracy: 0.8899\n",
            "Epoch 3/50\n",
            "1875/1875 [==============================] - 73s 39ms/step - loss: 0.2511 - accuracy: 0.9061\n",
            "Epoch 4/50\n",
            "1875/1875 [==============================] - 74s 39ms/step - loss: 0.2198 - accuracy: 0.9172\n",
            "Epoch 5/50\n",
            "1875/1875 [==============================] - 72s 38ms/step - loss: 0.1912 - accuracy: 0.9276\n",
            "Epoch 6/50\n",
            "1875/1875 [==============================] - 74s 39ms/step - loss: 0.1701 - accuracy: 0.9352\n",
            "Epoch 7/50\n",
            "1875/1875 [==============================] - 72s 38ms/step - loss: 0.1477 - accuracy: 0.9436\n",
            "Epoch 8/50\n",
            "1875/1875 [==============================] - 74s 39ms/step - loss: 0.1308 - accuracy: 0.9505\n",
            "Epoch 9/50\n",
            "1875/1875 [==============================] - 72s 39ms/step - loss: 0.1131 - accuracy: 0.9581\n",
            "Epoch 10/50\n",
            "1875/1875 [==============================] - 73s 39ms/step - loss: 0.1005 - accuracy: 0.9616\n",
            "Epoch 11/50\n",
            "1875/1875 [==============================] - 73s 39ms/step - loss: 0.0889 - accuracy: 0.9664\n",
            "Epoch 12/50\n",
            "1875/1875 [==============================] - 74s 39ms/step - loss: 0.0769 - accuracy: 0.9706\n",
            "Epoch 13/50\n",
            "1875/1875 [==============================] - 73s 39ms/step - loss: 0.0706 - accuracy: 0.9732\n",
            "Epoch 14/50\n",
            "1875/1875 [==============================] - 73s 39ms/step - loss: 0.0624 - accuracy: 0.9769\n",
            "Epoch 15/50\n",
            "1875/1875 [==============================] - 72s 39ms/step - loss: 0.0564 - accuracy: 0.9788\n",
            "Epoch 16/50\n",
            "1875/1875 [==============================] - 73s 39ms/step - loss: 0.0508 - accuracy: 0.9812\n",
            "Epoch 17/50\n",
            "1875/1875 [==============================] - 74s 39ms/step - loss: 0.0466 - accuracy: 0.9826\n",
            "Epoch 18/50\n",
            "1875/1875 [==============================] - 72s 39ms/step - loss: 0.0415 - accuracy: 0.9847\n",
            "Epoch 19/50\n",
            "1875/1875 [==============================] - 74s 39ms/step - loss: 0.0359 - accuracy: 0.9868\n",
            "Epoch 20/50\n",
            "1875/1875 [==============================] - 72s 38ms/step - loss: 0.0381 - accuracy: 0.9859\n",
            "Epoch 21/50\n",
            "1875/1875 [==============================] - 73s 39ms/step - loss: 0.0370 - accuracy: 0.9856\n",
            "Epoch 22/50\n",
            "1875/1875 [==============================] - 73s 39ms/step - loss: 0.0333 - accuracy: 0.9876\n",
            "Epoch 23/50\n",
            "1875/1875 [==============================] - 73s 39ms/step - loss: 0.0320 - accuracy: 0.9884\n",
            "Epoch 24/50\n",
            "1875/1875 [==============================] - 72s 38ms/step - loss: 0.0279 - accuracy: 0.9897\n",
            "Epoch 25/50\n",
            "1875/1875 [==============================] - 72s 38ms/step - loss: 0.0287 - accuracy: 0.9898\n",
            "Epoch 26/50\n",
            "1875/1875 [==============================] - 72s 39ms/step - loss: 0.0293 - accuracy: 0.9896\n",
            "Epoch 27/50\n",
            "1875/1875 [==============================] - 73s 39ms/step - loss: 0.0256 - accuracy: 0.9908\n",
            "Epoch 28/50\n",
            "1875/1875 [==============================] - 72s 39ms/step - loss: 0.0255 - accuracy: 0.9906\n",
            "Epoch 29/50\n",
            "1875/1875 [==============================] - 73s 39ms/step - loss: 0.0254 - accuracy: 0.9913\n",
            "Epoch 30/50\n",
            "1875/1875 [==============================] - 71s 38ms/step - loss: 0.0254 - accuracy: 0.9915\n",
            "Epoch 31/50\n",
            "1875/1875 [==============================] - 71s 38ms/step - loss: 0.0231 - accuracy: 0.9919\n",
            "Epoch 32/50\n",
            "1875/1875 [==============================] - 73s 39ms/step - loss: 0.0218 - accuracy: 0.9924\n",
            "Epoch 33/50\n",
            "1875/1875 [==============================] - 72s 38ms/step - loss: 0.0244 - accuracy: 0.9917\n",
            "Epoch 34/50\n",
            "1875/1875 [==============================] - 72s 38ms/step - loss: 0.0225 - accuracy: 0.9921\n",
            "Epoch 35/50\n",
            "1875/1875 [==============================] - 73s 39ms/step - loss: 0.0236 - accuracy: 0.9920\n",
            "Epoch 36/50\n",
            "1875/1875 [==============================] - 74s 39ms/step - loss: 0.0201 - accuracy: 0.9934\n",
            "Epoch 37/50\n",
            "1875/1875 [==============================] - 72s 39ms/step - loss: 0.0216 - accuracy: 0.9929\n",
            "Epoch 38/50\n",
            "1875/1875 [==============================] - 73s 39ms/step - loss: 0.0199 - accuracy: 0.9929\n",
            "Epoch 39/50\n",
            "1875/1875 [==============================] - 72s 38ms/step - loss: 0.0233 - accuracy: 0.9923\n",
            "Epoch 40/50\n",
            "1875/1875 [==============================] - 73s 39ms/step - loss: 0.0174 - accuracy: 0.9941\n",
            "Epoch 41/50\n",
            "1875/1875 [==============================] - 72s 39ms/step - loss: 0.0237 - accuracy: 0.9929\n",
            "Epoch 42/50\n",
            "1875/1875 [==============================] - 73s 39ms/step - loss: 0.0199 - accuracy: 0.9937\n",
            "Epoch 43/50\n",
            "1875/1875 [==============================] - 71s 38ms/step - loss: 0.0184 - accuracy: 0.9937\n",
            "Epoch 44/50\n",
            "1875/1875 [==============================] - 73s 39ms/step - loss: 0.0182 - accuracy: 0.9942\n",
            "Epoch 45/50\n",
            "1875/1875 [==============================] - 72s 38ms/step - loss: 0.0153 - accuracy: 0.9949\n",
            "Epoch 46/50\n",
            "1875/1875 [==============================] - 73s 39ms/step - loss: 0.0212 - accuracy: 0.9931\n",
            "Epoch 47/50\n",
            "1875/1875 [==============================] - 72s 38ms/step - loss: 0.0163 - accuracy: 0.9948\n",
            "Epoch 48/50\n",
            "1875/1875 [==============================] - 71s 38ms/step - loss: 0.0188 - accuracy: 0.9937\n",
            "Epoch 49/50\n",
            "1875/1875 [==============================] - 73s 39ms/step - loss: 0.0170 - accuracy: 0.9942\n",
            "Epoch 50/50\n",
            "1875/1875 [==============================] - 72s 38ms/step - loss: 0.0160 - accuracy: 0.9948\n",
            "313/313 [==============================] - 3s 10ms/step - loss: 0.9797 - accuracy: 0.9058\n"
          ]
        },
        {
          "output_type": "execute_result",
          "data": {
            "text/plain": [
              "[0.9797464609146118, 0.9057999849319458]"
            ]
          },
          "metadata": {},
          "execution_count": 5
        }
      ]
    },
    {
      "cell_type": "code",
      "source": [
        "classifications = model.predict(test_images)\n",
        "print(classifications[0])\n",
        "print(test_labels[0])"
      ],
      "metadata": {
        "colab": {
          "base_uri": "https://localhost:8080/"
        },
        "id": "Ox_jkO2q7MbK",
        "outputId": "8c15d14d-ef5c-4a48-d744-55338ecbfd5b"
      },
      "execution_count": 6,
      "outputs": [
        {
          "output_type": "stream",
          "name": "stdout",
          "text": [
            "313/313 [==============================] - 3s 10ms/step\n",
            "[0.0000000e+00 0.0000000e+00 1.9992345e-37 0.0000000e+00 0.0000000e+00\n",
            " 5.7092601e-35 0.0000000e+00 2.1329444e-15 0.0000000e+00 9.9999994e-01]\n",
            "9\n"
          ]
        }
      ]
    },
    {
      "cell_type": "code",
      "source": [
        "model.summary()"
      ],
      "metadata": {
        "colab": {
          "base_uri": "https://localhost:8080/"
        },
        "id": "kIatINZcWgh1",
        "outputId": "85234a14-574a-4ed9-b065-82a748cab09c"
      },
      "execution_count": 8,
      "outputs": [
        {
          "output_type": "stream",
          "name": "stdout",
          "text": [
            "Model: \"sequential_1\"\n",
            "_________________________________________________________________\n",
            " Layer (type)                Output Shape              Param #   \n",
            "=================================================================\n",
            " conv2d_6 (Conv2D)           (None, 26, 26, 64)        640       \n",
            "                                                                 \n",
            " max_pooling2d_5 (MaxPoolin  (None, 13, 13, 64)        0         \n",
            " g2D)                                                            \n",
            "                                                                 \n",
            " conv2d_7 (Conv2D)           (None, 11, 11, 64)        36928     \n",
            "                                                                 \n",
            " max_pooling2d_6 (MaxPoolin  (None, 5, 5, 64)          0         \n",
            " g2D)                                                            \n",
            "                                                                 \n",
            " flatten_2 (Flatten)         (None, 1600)              0         \n",
            "                                                                 \n",
            " dense_3 (Dense)             (None, 128)               204928    \n",
            "                                                                 \n",
            " dense_4 (Dense)             (None, 10)                1290      \n",
            "                                                                 \n",
            "=================================================================\n",
            "Total params: 243786 (952.29 KB)\n",
            "Trainable params: 243786 (952.29 KB)\n",
            "Non-trainable params: 0 (0.00 Byte)\n",
            "_________________________________________________________________\n"
          ]
        }
      ]
    }
  ]
}