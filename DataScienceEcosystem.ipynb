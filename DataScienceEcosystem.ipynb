{
 "cells": [
  {
   "cell_type": "markdown",
   "metadata": {},
   "source": [
    "<center>\n",
    "    <img src=\"https://cf-courses-data.s3.us.cloud-object-storage.appdomain.cloud/IBMDeveloperSkillsNetwork-DS0105EN-SkillsNetwork/labs/Module2/images/SN_web_lightmode.png\" width=\"300\" alt=\"cognitiveclass.ai logo\">\n",
    "</center>\n"
   ]
  },
  {
   "cell_type": "markdown",
   "metadata": {
    "tags": []
   },
   "source": [
    "# Data Science Tools and Ecosystem"
   ]
  },
  {
   "cell_type": "markdown",
   "metadata": {
    "tags": []
   },
   "source": [
    "# introduction.\n",
    "This is a recommendation for a data science report."
   ]
  },
  {
   "cell_type": "markdown",
   "metadata": {
    "tags": []
   },
   "source": [
    " # list data science languages.\n",
    " ## The popular languages are\n",
    " ### 1.Python\n",
    " ### 2.R\n",
    " ### 3.SQL\n",
    " ### 4.Scala\n",
    " ### 5.Java\n",
    " ### 6.C++\n",
    " ### 7.Julia"
   ]
  },
  {
   "cell_type": "markdown",
   "metadata": {
    "tags": []
   },
   "source": [
    "# list data science libraries\n",
    "## Library is Pandas, NumPy, SciPy and Matplotlib"
   ]
  },
  {
   "cell_type": "markdown",
   "metadata": {
    "tags": []
   },
   "source": [
    "# table of Data Science tools. \n",
    "Code Asset Management - store & manage code, track changes and allow collaborative development\n",
    "\n",
    "Data Asset Management - organize and manage data, provide access control, and backup assets\n",
    "\n",
    "Development Environments - develop, test and deploy code\n",
    "\n",
    "Execution Environments - provide computational resources and run the code"
   ]
  },
  {
   "cell_type": "markdown",
   "metadata": {
    "tags": []
   },
   "source": [
    "#  introducing arithmetic expression examples.\n",
    "## Positive expressions\n",
    "### x = 5\n",
    "### y = 10\n",
    "### result = x + y\n",
    "## Expressions that are multiplications\n",
    "### a = 3\n",
    "### b = 4\n",
    "### product = a * b\n"
   ]
  },
  {
   "cell_type": "code",
   "execution_count": 14,
   "metadata": {
    "tags": []
   },
   "outputs": [
    {
     "name": "stdout",
     "output_type": "stream",
     "text": [
      "Result Positive =  8\n",
      "Result multiplications =  15\n"
     ]
    }
   ],
   "source": [
    "a = 3\n",
    "b = 5\n",
    "Positive_result = a + b\n",
    "multiplications_result = a * b\n",
    "print('Result Positive = ',Positive_result)\n",
    "print('Result multiplications = ',multiplications_result)"
   ]
  },
  {
   "cell_type": "code",
   "execution_count": 15,
   "metadata": {
    "tags": []
   },
   "outputs": [
    {
     "name": "stdin",
     "output_type": "stream",
     "text": [
      "Please enter Minute =  200\n"
     ]
    },
    {
     "name": "stdout",
     "output_type": "stream",
     "text": [
      "200 minute = 3 Hour 20 Minute\n"
     ]
    }
   ],
   "source": [
    "minute = int(input('Please enter Minute = '))\n",
    "hour = minute // 60\n",
    "minutes_remaining = minute % 60\n",
    "if minute > 0:\n",
    "    print(f'{minute} minute = {hour} Hour {minutes_remaining} Minute')"
   ]
  },
  {
   "cell_type": "markdown",
   "metadata": {
    "tags": []
   },
   "source": [
    "# Objectives\n",
    "### Objectives :For the purpose of learning and applying tools for further advancement in the field of data science\n",
    "## The popular languages are\n",
    " ### 1.Python\n",
    " ### 2.R\n",
    " ### 3.SQL\n",
    " ### 4.Scala\n",
    " ### 5.Java\n",
    " ### 6.C++\n",
    " ### 7.Julia"
   ]
  },
  {
   "cell_type": "markdown",
   "metadata": {},
   "source": [
    "# Author’s name.\n",
    "## name is Chayanon Ngampradit\n"
   ]
  }
 ],
 "metadata": {
  "kernelspec": {
   "display_name": "Python",
   "language": "python",
   "name": "conda-env-python-py"
  },
  "language_info": {
   "codemirror_mode": {
    "name": "ipython",
    "version": 3
   },
   "file_extension": ".py",
   "mimetype": "text/x-python",
   "name": "python",
   "nbconvert_exporter": "python",
   "pygments_lexer": "ipython3",
   "version": "3.7.12"
  }
 },
 "nbformat": 4,
 "nbformat_minor": 4
}
